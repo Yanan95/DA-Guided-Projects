{
 "cells": [
  {
   "cell_type": "markdown",
   "metadata": {},
   "source": [
    "## Introduction to Dataset"
   ]
  },
  {
   "cell_type": "code",
   "execution_count": 15,
   "metadata": {},
   "outputs": [
    {
     "data": {
      "text/plain": [
       "pclass                                   1\n",
       "survived                                 1\n",
       "name         Allen, Miss. Elisabeth Walton\n",
       "sex                                 female\n",
       "age                                     29\n",
       "sibsp                                    0\n",
       "parch                                    0\n",
       "ticket                               24160\n",
       "fare                               211.338\n",
       "cabin                                   B5\n",
       "embarked                                 S\n",
       "boat                                     2\n",
       "body                                   NaN\n",
       "home.dest                     St Louis, MO\n",
       "Name: 0, dtype: object"
      ]
     },
     "execution_count": 15,
     "metadata": {},
     "output_type": "execute_result"
    }
   ],
   "source": [
    "import pandas as pd\n",
    "titanic_survival = pd.read_csv('titanic_survival.csv')\n",
    "# ⚠️ None: no value\n",
    "# ⚠️ NaN: not a number\n",
    "titanic_survival.loc[0]"
   ]
  },
  {
   "cell_type": "markdown",
   "metadata": {},
   "source": [
    "## Finding the Missing Data with pd.isnull( )"
   ]
  },
  {
   "cell_type": "code",
   "execution_count": 16,
   "metadata": {
    "collapsed": true
   },
   "outputs": [],
   "source": [
    "# ⚠️pandas.isnull() takes a series and returns a series of True and False\n",
    "# Count how many values in the \"age\" column have null values\n",
    "age = titanic_survival['age']\n",
    "age_null_true = age[pd.isnull(age)]\n",
    "# return a series and we could use 'len' method\n",
    "age_null_count = len(age_null_true)\n",
    "\n",
    "correct_mean_age = titanic_survival[\"age\"].mean()\n",
    "correct_mean_fare = titanic_survival['fare'].mean()"
   ]
  },
  {
   "cell_type": "markdown",
   "metadata": {},
   "source": [
    "## Drop Missing Values with df.dropna( )"
   ]
  },
  {
   "cell_type": "code",
   "execution_count": 17,
   "metadata": {
    "collapsed": true
   },
   "outputs": [],
   "source": [
    "# Drop all columns in titanic_survival that have missing values \n",
    "drop_na_columns = titanic_survival.dropna(axis=1)\n",
    "# Drop all rows where the columns \"age\" or \"sex\" have missing values \n",
    "new_titanic_survival = titanic_survival.dropna(axis=0,subset=[\"age\", \"sex\"])\n",
    "\n",
    "#⚠️ pd.isnull() vs df.dropna()\n",
    "#⚠️ remember the method of df.dropna(axis, subset)"
   ]
  },
  {
   "cell_type": "markdown",
   "metadata": {},
   "source": [
    "## Calculating Summary Statistics"
   ]
  },
  {
   "cell_type": "code",
   "execution_count": 18,
   "metadata": {},
   "outputs": [
    {
     "data": {
      "text/plain": [
       "{1: 87.50899164086687, 2: 21.1791963898917, 3: 13.302888700564957}"
      ]
     },
     "execution_count": 18,
     "metadata": {},
     "output_type": "execute_result"
    }
   ],
   "source": [
    "# create a dictionary fares_by_class which has 1, 2, and 3 as keys, with the average fares as the corresponding values.\n",
    "passenger_classes = [1, 2, 3]\n",
    "fares_by_class ={}\n",
    "for pclass in passenger_classes:\n",
    "    mean_fare = titanic_survival['fare'][titanic_survival['pclass']==pclass].mean()\n",
    "# ⚠️comparison is powerful    \n",
    "    fares_by_class[pclass] = mean_fare\n",
    "fares_by_class"
   ]
  },
  {
   "cell_type": "markdown",
   "metadata": {},
   "source": [
    "## Better Way -- Pivot Table"
   ]
  },
  {
   "cell_type": "code",
   "execution_count": 19,
   "metadata": {
    "collapsed": true
   },
   "outputs": [],
   "source": [
    "# ⚠️pivot_table first group and then apply a calculation\n",
    "import numpy as np\n",
    "passenger_class_fares = titanic_survival.pivot_table(index=\"pclass\", values=\"fare\", aggfunc=np.mean)\n",
    "# More Complex Pivot Tables\n",
    "# calculates the total fares and total number of survivors for each embarkation port\n",
    "port_stats = titanic_survival.pivot_table(index ='embarked', values=['fare','survived'],aggfunc = np.sum)"
   ]
  },
  {
   "cell_type": "markdown",
   "metadata": {},
   "source": [
    "## Apply( ) in a DataFrame iterating over column"
   ]
  },
  {
   "cell_type": "code",
   "execution_count": 31,
   "metadata": {},
   "outputs": [
    {
     "data": {
      "text/plain": [
       "pclass           1\n",
       "survived         1\n",
       "name             1\n",
       "sex              1\n",
       "age            264\n",
       "sibsp            1\n",
       "parch            1\n",
       "ticket           1\n",
       "fare             2\n",
       "cabin         1015\n",
       "embarked         3\n",
       "boat           824\n",
       "body          1189\n",
       "home.dest      565\n",
       "age_labels       0\n",
       "dtype: int64"
      ]
     },
     "execution_count": 31,
     "metadata": {},
     "output_type": "execute_result"
    }
   ],
   "source": [
    "# Write a function that counts the number of null elements in a Series\n",
    "def null_counts(df):\n",
    "    return len(df[pd.isnull(df)])\n",
    "column_null_count = titanic_survival.apply(null_counts)\n",
    "column_null_count \n",
    "# ⚠️ iterate over column by default 每一列单独计算"
   ]
  },
  {
   "cell_type": "markdown",
   "metadata": {},
   "source": [
    "## Apply( ) in a DataFrame iterating over row"
   ]
  },
  {
   "cell_type": "code",
   "execution_count": 32,
   "metadata": {},
   "outputs": [
    {
     "name": "stdout",
     "output_type": "stream",
     "text": [
      "0         adult\n",
      "1         minor\n",
      "2         minor\n",
      "3         adult\n",
      "4         adult\n",
      "5         adult\n",
      "6         adult\n",
      "7         adult\n",
      "8         adult\n",
      "9         adult\n",
      "10        adult\n",
      "11        adult\n",
      "12        adult\n",
      "13        adult\n",
      "14        adult\n",
      "15      unknown\n",
      "16        adult\n",
      "17        adult\n",
      "18        adult\n",
      "19        adult\n",
      "20        adult\n",
      "21        adult\n",
      "22        adult\n",
      "23        adult\n",
      "24        adult\n",
      "25        adult\n",
      "26        adult\n",
      "27        adult\n",
      "28        adult\n",
      "29        adult\n",
      "         ...   \n",
      "1280      adult\n",
      "1281      adult\n",
      "1282    unknown\n",
      "1283    unknown\n",
      "1284    unknown\n",
      "1285      adult\n",
      "1286      adult\n",
      "1287      adult\n",
      "1288      adult\n",
      "1289      adult\n",
      "1290      adult\n",
      "1291    unknown\n",
      "1292    unknown\n",
      "1293    unknown\n",
      "1294      adult\n",
      "1295      adult\n",
      "1296      adult\n",
      "1297    unknown\n",
      "1298      adult\n",
      "1299      adult\n",
      "1300      minor\n",
      "1301      adult\n",
      "1302    unknown\n",
      "1303    unknown\n",
      "1304      minor\n",
      "1305    unknown\n",
      "1306      adult\n",
      "1307      adult\n",
      "1308      adult\n",
      "1309    unknown\n",
      "Length: 1310, dtype: object\n"
     ]
    }
   ],
   "source": [
    "# ⚠️iterate over rows with parameter 'axis =1' 每一行单独计算\n",
    "def theage(row):\n",
    "    age = row[\"age\"]\n",
    "    if pd.isnull(age)==True:\n",
    "        return \"unknown\"\n",
    "    elif age < 18:\n",
    "        return \"minor\"\n",
    "    else:\n",
    "        return \"adult\"\n",
    "\n",
    "age_labels = titanic_survival.apply(theage, axis=1)\n",
    "print(age_labels)\n",
    "titanic_survival['age_labels'] = age_labels"
   ]
  },
  {
   "cell_type": "markdown",
   "metadata": {},
   "source": [
    "## Calculating Survival Percentage by Age Group"
   ]
  },
  {
   "cell_type": "code",
   "execution_count": 30,
   "metadata": {},
   "outputs": [
    {
     "data": {
      "text/html": [
       "<div>\n",
       "<style>\n",
       "    .dataframe thead tr:only-child th {\n",
       "        text-align: right;\n",
       "    }\n",
       "\n",
       "    .dataframe thead th {\n",
       "        text-align: left;\n",
       "    }\n",
       "\n",
       "    .dataframe tbody tr th {\n",
       "        vertical-align: top;\n",
       "    }\n",
       "</style>\n",
       "<table border=\"1\" class=\"dataframe\">\n",
       "  <thead>\n",
       "    <tr style=\"text-align: right;\">\n",
       "      <th></th>\n",
       "      <th>survived</th>\n",
       "    </tr>\n",
       "    <tr>\n",
       "      <th>age_labels</th>\n",
       "      <th></th>\n",
       "    </tr>\n",
       "  </thead>\n",
       "  <tbody>\n",
       "    <tr>\n",
       "      <th>adult</th>\n",
       "      <td>0.387892</td>\n",
       "    </tr>\n",
       "    <tr>\n",
       "      <th>minor</th>\n",
       "      <td>0.525974</td>\n",
       "    </tr>\n",
       "    <tr>\n",
       "      <th>unknown</th>\n",
       "      <td>0.277567</td>\n",
       "    </tr>\n",
       "  </tbody>\n",
       "</table>\n",
       "</div>"
      ],
      "text/plain": [
       "            survived\n",
       "age_labels          \n",
       "adult       0.387892\n",
       "minor       0.525974\n",
       "unknown     0.277567"
      ]
     },
     "execution_count": 30,
     "metadata": {},
     "output_type": "execute_result"
    }
   ],
   "source": [
    "# calculates the mean survival chance(\"survived\") for each age group (\"age_labels\")\n",
    "import numpy as np\n",
    "titanic_survival.pivot_table(index = 'age_labels', values = 'survived', aggfunc = np.mean)"
   ]
  },
  {
   "cell_type": "code",
   "execution_count": null,
   "metadata": {
    "collapsed": true
   },
   "outputs": [],
   "source": []
  }
 ],
 "metadata": {
  "kernelspec": {
   "display_name": "Python 3",
   "language": "python",
   "name": "python3"
  },
  "language_info": {
   "codemirror_mode": {
    "name": "ipython",
    "version": 3
   },
   "file_extension": ".py",
   "mimetype": "text/x-python",
   "name": "python",
   "nbconvert_exporter": "python",
   "pygments_lexer": "ipython3",
   "version": "3.6.1"
  }
 },
 "nbformat": 4,
 "nbformat_minor": 2
}

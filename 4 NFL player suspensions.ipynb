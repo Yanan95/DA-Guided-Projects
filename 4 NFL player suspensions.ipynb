{
 "cells": [
  {
   "cell_type": "markdown",
   "metadata": {},
   "source": [
    "## Introduction to the Data"
   ]
  },
  {
   "cell_type": "code",
   "execution_count": 17,
   "metadata": {},
   "outputs": [
    {
     "name": "stdout",
     "output_type": "stream",
     "text": [
      "['name', 'team', 'games', 'category', 'desc.', 'year', 'source']\n"
     ]
    }
   ],
   "source": [
    "import csv\n",
    "f = open('nfl-suspensions-data.csv')\n",
    "file = csv.reader(f)\n",
    "nfl_suspensions = list(file)\n",
    "# display the header\n",
    "print(nfl_suspensions[0])\n",
    "# remove the header\n",
    "nfl_suspensions = nfl_suspensions[1:]"
   ]
  },
  {
   "cell_type": "code",
   "execution_count": 18,
   "metadata": {},
   "outputs": [
    {
     "name": "stdout",
     "output_type": "stream",
     "text": [
      "{'2014': 29, '1946': 1, '1947': 1, '2010': 21, '2008': 10, '2007': 17, '1983': 1, '2009': 10, '2005': 8, '2000': 1, '2012': 45, '2001': 3, '2006': 11, '1989': 17, '   ': 1, '1963': 1, '2013': 40, '1990': 3, '2011': 13, '2004': 6, '2002': 7, '2003': 9, '1997': 3, '1999': 5, '1993': 1, '1995': 1, '1998': 2, '1994': 1, '1986': 1}\n"
     ]
    }
   ],
   "source": [
    "# Count the number of times each value in the year column occurs\n",
    "year_counts = {}\n",
    "for row in nfl_suspensions:\n",
    "    if row[5] not in year_counts:\n",
    "        year_counts[row[5]] = 1\n",
    "    else:\n",
    "        year_counts[row[5]] +=1\n",
    "print (year_counts)"
   ]
  },
  {
   "cell_type": "markdown",
   "metadata": {},
   "source": [
    "## Retrieve 'team' unique values with list comprehension"
   ]
  },
  {
   "cell_type": "code",
   "execution_count": 19,
   "metadata": {},
   "outputs": [
    {
     "data": {
      "text/plain": [
       "{'ARI',\n",
       " 'ATL',\n",
       " 'BAL',\n",
       " 'BUF',\n",
       " 'CAR',\n",
       " 'CHI',\n",
       " 'CIN',\n",
       " 'CLE',\n",
       " 'DAL',\n",
       " 'DEN',\n",
       " 'DET',\n",
       " 'FREE',\n",
       " 'GB',\n",
       " 'HOU',\n",
       " 'IND',\n",
       " 'JAX',\n",
       " 'KC',\n",
       " 'LA',\n",
       " 'MIA',\n",
       " 'MIN',\n",
       " 'NE',\n",
       " 'NO',\n",
       " 'NYG',\n",
       " 'NYJ',\n",
       " 'OAK',\n",
       " 'PHI',\n",
       " 'PIT',\n",
       " 'SD',\n",
       " 'SEA',\n",
       " 'SF',\n",
       " 'STL',\n",
       " 'TB',\n",
       " 'TEN',\n",
       " 'WAS'}"
      ]
     },
     "execution_count": 19,
     "metadata": {},
     "output_type": "execute_result"
    }
   ],
   "source": [
    "teams = []\n",
    "teams = [row[1] for row in nfl_suspensions]\n",
    "unique_teams = set(teams)\n",
    "unique_teams\n",
    "# ⚠️remember the method of 'set()' to retrieve the unique values"
   ]
  },
  {
   "cell_type": "markdown",
   "metadata": {},
   "source": [
    "## Suspension Class"
   ]
  },
  {
   "cell_type": "code",
   "execution_count": 23,
   "metadata": {},
   "outputs": [
    {
     "data": {
      "text/plain": [
       "0"
      ]
     },
     "execution_count": 23,
     "metadata": {},
     "output_type": "execute_result"
    }
   ],
   "source": [
    "class Suspension:\n",
    "    def __init__(self,row):\n",
    "        self.name = row[0]\n",
    "        self.team = row[1]\n",
    "        self.games = row[2]\n",
    "        self.year = row[5]\n",
    "#Create a Suspension instance using the third row in nfl_suspensions\n",
    "third_suspension = Suspension(nfl_suspensions[2])\n",
    "third_suspension\n",
    "\n",
    "# cast 'year' to an integer and create a method that returns the year value\n",
    "class Suspension():\n",
    "    def __init__(self,row):\n",
    "        self.name = row[0]\n",
    "        self.team = row[1]\n",
    "        self.games = row[2] \n",
    "        try:\n",
    "            self.year = int(row[5])\n",
    "        except Exception:\n",
    "             self.year = 0\n",
    "    def get_year(self):\n",
    "        return(self.year)\n",
    "# Create a Suspension instance using the 23rd row\n",
    "missing_year = Suspension(nfl_suspensions[22])\n",
    "twenty_third_year = missing_year.get_year()\n",
    "twenty_third_year"
   ]
  },
  {
   "cell_type": "code",
   "execution_count": null,
   "metadata": {
    "collapsed": true
   },
   "outputs": [],
   "source": []
  }
 ],
 "metadata": {
  "kernelspec": {
   "display_name": "Python 3",
   "language": "python",
   "name": "python3"
  },
  "language_info": {
   "codemirror_mode": {
    "name": "ipython",
    "version": 3
   },
   "file_extension": ".py",
   "mimetype": "text/x-python",
   "name": "python",
   "nbconvert_exporter": "python",
   "pygments_lexer": "ipython3",
   "version": "3.6.1"
  }
 },
 "nbformat": 4,
 "nbformat_minor": 2
}

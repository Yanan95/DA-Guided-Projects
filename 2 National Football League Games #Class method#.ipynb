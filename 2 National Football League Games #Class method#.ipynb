{
 "cells": [
  {
   "cell_type": "markdown",
   "metadata": {},
   "source": [
    "# National Football League Games"
   ]
  },
  {
   "cell_type": "markdown",
   "metadata": {},
   "source": [
    "## open csv file with csv module"
   ]
  },
  {
   "cell_type": "code",
   "execution_count": 26,
   "metadata": {},
   "outputs": [],
   "source": [
    "import csv\n",
    "f = open('nfl.csv')\n",
    "file = csv.reader(f)\n",
    "nfl_data = list(file)\n",
    "\n",
    "#⚠️ remember this method of opening csv file"
   ]
  },
  {
   "cell_type": "markdown",
   "metadata": {},
   "source": [
    "## defining the class"
   ]
  },
  {
   "cell_type": "code",
   "execution_count": 27,
   "metadata": {},
   "outputs": [
    {
     "name": "stdout",
     "output_type": "stream",
     "text": [
      "[['year', 'week', 'winner', 'loser'], ['2009', '1', 'Pittsburgh Steelers', 'Tennessee Titans'], ['2009', '1', 'Minnesota Vikings', 'Cleveland Browns'], ['2009', '1', 'New York Giants', 'Washington Redskins'], ['2009', '1', 'San Francisco 49ers', 'Arizona Cardinals']]\n"
     ]
    }
   ],
   "source": [
    "class Dataset: \n",
    "    def __init__(self):\n",
    "        self.type = 'csv'\n",
    "        \n",
    "class Dataset:\n",
    "    def __init__(self, data):\n",
    "        self.data = data\n",
    "    def print_data(self,num_rows):\n",
    "        print (self.data[0:num_rows])\n",
    "        \n",
    "nfl_dataset = Dataset(nfl_data)\n",
    "dataset_data = nfl_dataset.data \n",
    "nfl_dataset.print_data(5)"
   ]
  },
  {
   "cell_type": "markdown",
   "metadata": {},
   "source": [
    "## extracting the header "
   ]
  },
  {
   "cell_type": "code",
   "execution_count": 28,
   "metadata": {
    "collapsed": true
   },
   "outputs": [],
   "source": [
    "class Dataset:\n",
    "    def __init__(self, data):\n",
    "        self.header = data[0]\n",
    "        self.data = data[1:]\n",
    "\n",
    "nfl_dataset = Dataset(nfl_data)\n",
    "nfl_header = nfl_dataset.header"
   ]
  },
  {
   "cell_type": "markdown",
   "metadata": {},
   "source": [
    "## Grabbing Column Data"
   ]
  },
  {
   "cell_type": "code",
   "execution_count": 29,
   "metadata": {},
   "outputs": [
    {
     "ename": "AttributeError",
     "evalue": "'Dataset' object has no attribute 'data'",
     "output_type": "error",
     "traceback": [
      "\u001b[0;31m---------------------------------------------------------------------------\u001b[0m",
      "\u001b[0;31mAttributeError\u001b[0m                            Traceback (most recent call last)",
      "\u001b[0;32m<ipython-input-29-5139280ebbbc>\u001b[0m in \u001b[0;36m<module>\u001b[0;34m()\u001b[0m\n\u001b[1;32m     17\u001b[0m \u001b[0;34m\u001b[0m\u001b[0m\n\u001b[1;32m     18\u001b[0m \u001b[0mnfl_dataset\u001b[0m \u001b[0;34m=\u001b[0m \u001b[0mDataset\u001b[0m\u001b[0;34m(\u001b[0m\u001b[0mnfl_data\u001b[0m\u001b[0;34m)\u001b[0m\u001b[0;34m\u001b[0m\u001b[0m\n\u001b[0;32m---> 19\u001b[0;31m \u001b[0myear_column\u001b[0m \u001b[0;34m=\u001b[0m \u001b[0mnfl_dataset\u001b[0m\u001b[0;34m.\u001b[0m\u001b[0mcolumn\u001b[0m\u001b[0;34m(\u001b[0m\u001b[0;34m'year'\u001b[0m\u001b[0;34m)\u001b[0m\u001b[0;34m\u001b[0m\u001b[0m\n\u001b[0m\u001b[1;32m     20\u001b[0m \u001b[0mplayer_column\u001b[0m \u001b[0;34m=\u001b[0m \u001b[0mnfl_dataset\u001b[0m\u001b[0;34m.\u001b[0m\u001b[0mcolumn\u001b[0m\u001b[0;34m(\u001b[0m\u001b[0;34m'player'\u001b[0m\u001b[0;34m)\u001b[0m\u001b[0;34m\u001b[0m\u001b[0m\n\u001b[1;32m     21\u001b[0m \u001b[0;34m\u001b[0m\u001b[0m\n",
      "\u001b[0;32m<ipython-input-29-5139280ebbbc>\u001b[0m in \u001b[0;36mcolumn\u001b[0;34m(self, label)\u001b[0m\n\u001b[1;32m     12\u001b[0m \u001b[0;34m\u001b[0m\u001b[0m\n\u001b[1;32m     13\u001b[0m         \u001b[0mcolumn\u001b[0m \u001b[0;34m=\u001b[0m \u001b[0;34m[\u001b[0m\u001b[0;34m]\u001b[0m\u001b[0;34m\u001b[0m\u001b[0m\n\u001b[0;32m---> 14\u001b[0;31m         \u001b[0;32mfor\u001b[0m \u001b[0mrow\u001b[0m \u001b[0;32min\u001b[0m \u001b[0mself\u001b[0m\u001b[0;34m.\u001b[0m\u001b[0mdata\u001b[0m\u001b[0;34m:\u001b[0m\u001b[0;34m\u001b[0m\u001b[0m\n\u001b[0m\u001b[1;32m     15\u001b[0m             \u001b[0mcolumn\u001b[0m\u001b[0;34m.\u001b[0m\u001b[0mappend\u001b[0m\u001b[0;34m(\u001b[0m\u001b[0mrow\u001b[0m\u001b[0;34m[\u001b[0m\u001b[0mindex\u001b[0m\u001b[0;34m]\u001b[0m\u001b[0;34m)\u001b[0m\u001b[0;34m\u001b[0m\u001b[0m\n\u001b[1;32m     16\u001b[0m         \u001b[0;32mreturn\u001b[0m \u001b[0mcolumn\u001b[0m\u001b[0;34m\u001b[0m\u001b[0m\n",
      "\u001b[0;31mAttributeError\u001b[0m: 'Dataset' object has no attribute 'data'"
     ]
    }
   ],
   "source": [
    "class Dataset:\n",
    "    def __init__(self, data):\n",
    "        self.header = data[0]\n",
    "    def column(self, label):\n",
    "        if label not in self.header:\n",
    "            return None\n",
    "        \n",
    "        index = 0\n",
    "        for idx, element in enumerate(self.header):\n",
    "            if label == element:\n",
    "                index = idx\n",
    "        \n",
    "        column = []\n",
    "        for row in self.data:\n",
    "            column.append(row[index])\n",
    "        return column\n",
    "\n",
    "nfl_dataset = Dataset(nfl_data)\n",
    "year_column = nfl_dataset.column('year')\n",
    "player_column = nfl_dataset.column('player')\n",
    "\n",
    "# ⚠️ remember this method of 'enumerate'"
   ]
  },
  {
   "cell_type": "markdown",
   "metadata": {},
   "source": [
    "## Count Unique Value Of Column Data"
   ]
  },
  {
   "cell_type": "code",
   "execution_count": 32,
   "metadata": {},
   "outputs": [],
   "source": [
    "class Dataset:\n",
    "    def __init__(self, data):\n",
    "        self.header = data[0]\n",
    "        self.data = data[1:]\n",
    "    def column(self, label):\n",
    "        if label not in self.header:\n",
    "            return None\n",
    "        else:\n",
    "            index = 0\n",
    "            for idx, element in enumerate(self.header):\n",
    "                if label == element:\n",
    "                    index = idx\n",
    "        column = []\n",
    "        for row in self.data:\n",
    "            column.append(row[index])\n",
    "        return column\n",
    "    def count_unique(self, label):\n",
    "        count = 0\n",
    "        unique_list = []\n",
    "        for item in self.column(label):\n",
    "            if item not in unique_list:\n",
    "                count = count+1\n",
    "            else:\n",
    "                unique_list.append(item)\n",
    "        return count\n",
    "        return unique_list\n",
    "    \n",
    "nfl_dataset = Dataset(nfl_data)\n",
    "total_years = nfl_dataset.count_unique('year')\n",
    "\n",
    "#⚠️ Another method of counting unique values\n",
    "#     def count_unique(self, label):\n",
    "#        count = 0\n",
    "#        for item in set(self.column(label)):\n",
    "#            count += 1\n",
    "#        return count\n",
    "#⚠️ remember the method of set()"
   ]
  }
 ],
 "metadata": {
  "kernelspec": {
   "display_name": "Python 3",
   "language": "python",
   "name": "python3"
  },
  "language_info": {
   "codemirror_mode": {
    "name": "ipython",
    "version": 3
   },
   "file_extension": ".py",
   "mimetype": "text/x-python",
   "name": "python",
   "nbconvert_exporter": "python",
   "pygments_lexer": "ipython3",
   "version": "3.6.1"
  }
 },
 "nbformat": 4,
 "nbformat_minor": 2
}

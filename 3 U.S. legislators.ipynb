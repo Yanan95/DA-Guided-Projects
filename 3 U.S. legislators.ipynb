{
 "cells": [
  {
   "cell_type": "markdown",
   "metadata": {},
   "source": [
    "## Import CSV File"
   ]
  },
  {
   "cell_type": "code",
   "execution_count": 10,
   "metadata": {},
   "outputs": [
    {
     "name": "stdout",
     "output_type": "stream",
     "text": [
      "[['last_name', 'first_name', 'birthday', 'gender', 'type', 'state', 'party'], ['Bassett', 'Richard', '1745-04-02', 'M', 'sen', 'DE', 'Anti-Administration']]\n"
     ]
    }
   ],
   "source": [
    "import csv \n",
    "f = open('legislators.csv')\n",
    "file = csv.reader(f)\n",
    "legislators = list(file)\n",
    "print(legislators[0:2])"
   ]
  },
  {
   "cell_type": "markdown",
   "metadata": {},
   "source": [
    "## Set 'gender' & Replace Missing Values"
   ]
  },
  {
   "cell_type": "code",
   "execution_count": 11,
   "metadata": {},
   "outputs": [
    {
     "name": "stdout",
     "output_type": "stream",
     "text": [
      "{'', 'M', 'F', 'gender'}\n"
     ]
    }
   ],
   "source": [
    "gender = []\n",
    "for row in legislators:\n",
    "    gender.append(row[3])\n",
    "\n",
    "gender = set(gender)\n",
    "print(gender)"
   ]
  },
  {
   "cell_type": "code",
   "execution_count": 12,
   "metadata": {},
   "outputs": [],
   "source": [
    "gender = []\n",
    "for row in legislators[1:]:\n",
    "    if row[3] == '':\n",
    "        row[3] ='M'\n",
    "    gender.append(row[3])"
   ]
  },
  {
   "cell_type": "markdown",
   "metadata": {},
   "source": [
    "## Deal With 'Party' Similarly"
   ]
  },
  {
   "cell_type": "code",
   "execution_count": 13,
   "metadata": {
    "collapsed": true
   },
   "outputs": [],
   "source": [
    "party = [] \n",
    "for row in legislators:\n",
    "    if row[6] == '':\n",
    "        row[6] ='No Party'\n",
    "    party.append(row[6])"
   ]
  },
  {
   "cell_type": "markdown",
   "metadata": {},
   "source": [
    "## Parse Birth-year & Convert To Integers #Try & Except Block"
   ]
  },
  {
   "cell_type": "code",
   "execution_count": 14,
   "metadata": {
    "collapsed": true
   },
   "outputs": [],
   "source": [
    "for row in legislators:\n",
    "    birthday = row[2]\n",
    "    birth_year = birthday.split(\"-\")[0]\n",
    "    try:\n",
    "        birth_year = int(birth_year)\n",
    "    except Exception:\n",
    "        birth_year = 0\n",
    "    row.append(birth_year)"
   ]
  },
  {
   "cell_type": "markdown",
   "metadata": {},
   "source": [
    "## Replace Birth-year = 0 with Previous Value"
   ]
  },
  {
   "cell_type": "code",
   "execution_count": 15,
   "metadata": {
    "collapsed": true
   },
   "outputs": [],
   "source": [
    "last_value = 1\n",
    "for row in legislators:\n",
    "    if row[7] == 0:\n",
    "        row[7] = last_value\n",
    "    last_value = row[7]"
   ]
  },
  {
   "cell_type": "markdown",
   "metadata": {
    "collapsed": true
   },
   "source": [
    "## Counting Female Names"
   ]
  },
  {
   "cell_type": "code",
   "execution_count": 16,
   "metadata": {},
   "outputs": [],
   "source": [
    "name_counts = {}\n",
    "for row in legislators:\n",
    "    if row[3] == 'F' and row[7] >1940:\n",
    "        name = row[1]\n",
    "        if name in name_counts:\n",
    "            name_counts[name] = name_counts[name]+1\n",
    "        else:\n",
    "            name_counts[name] =1\n",
    "# ⚠️ why I cannot use '&' to replace 'and'? "
   ]
  },
  {
   "cell_type": "markdown",
   "metadata": {},
   "source": [
    "## Highest Female Name Count"
   ]
  },
  {
   "cell_type": "code",
   "execution_count": 23,
   "metadata": {},
   "outputs": [
    {
     "name": "stdout",
     "output_type": "stream",
     "text": [
      "2\n"
     ]
    }
   ],
   "source": [
    "max_value = None\n",
    "for name in name_counts:\n",
    "    count = name_counts[name]\n",
    "    if max_value is None or count > max_value:\n",
    "        max_value = count\n",
    "        \n",
    "print(max_value)\n",
    "# ⚠️remember 'comparing with None'"
   ]
  },
  {
   "cell_type": "markdown",
   "metadata": {},
   "source": [
    "## Another Method to Loop Through Dic"
   ]
  },
  {
   "cell_type": "code",
   "execution_count": 25,
   "metadata": {},
   "outputs": [
    {
     "name": "stdout",
     "output_type": "stream",
     "text": [
      "2\n"
     ]
    }
   ],
   "source": [
    "max_value = None\n",
    "for name, count in name_counts.items():\n",
    "    if max_value is None or count>max_value:\n",
    "        max_value = count\n",
    "        \n",
    "print(max_value)\n",
    "# ⚠️remember the method of 'dic.items()'\n",
    "# when using for A in dic_a to loop, the 'A' is key instead of value"
   ]
  },
  {
   "cell_type": "markdown",
   "metadata": {},
   "source": [
    "## Finding the Most Common Female Name"
   ]
  },
  {
   "cell_type": "code",
   "execution_count": 28,
   "metadata": {},
   "outputs": [
    {
     "name": "stdout",
     "output_type": "stream",
     "text": [
      "Karen\n",
      "Melissa\n",
      "Shelley\n",
      "Jo Ann\n",
      "Stephanie\n",
      "Deborah\n",
      "Kathleen\n",
      "Mary\n"
     ]
    }
   ],
   "source": [
    "# we have known the max_value is 2, we could use '2' to find the name\n",
    "for name,count in name_counts.items():\n",
    "    if count == 2:\n",
    "        print(name)"
   ]
  },
  {
   "cell_type": "markdown",
   "metadata": {},
   "source": [
    "## List Comprehensions ( briefer method )"
   ]
  },
  {
   "cell_type": "code",
   "execution_count": 32,
   "metadata": {},
   "outputs": [
    {
     "data": {
      "text/plain": [
       "['Karen',\n",
       " 'Melissa',\n",
       " 'Shelley',\n",
       " 'Jo Ann',\n",
       " 'Stephanie',\n",
       " 'Deborah',\n",
       " 'Kathleen',\n",
       " 'Mary']"
      ]
     },
     "execution_count": 32,
     "metadata": {},
     "output_type": "execute_result"
    }
   ],
   "source": [
    "top_female_names = []\n",
    "top_female_names = [name for name, counts in name_counts.items() if counts == 2]\n",
    "top_female_names"
   ]
  },
  {
   "cell_type": "code",
   "execution_count": null,
   "metadata": {
    "collapsed": true
   },
   "outputs": [],
   "source": []
  }
 ],
 "metadata": {
  "kernelspec": {
   "display_name": "Python 3",
   "language": "python",
   "name": "python3"
  },
  "language_info": {
   "codemirror_mode": {
    "name": "ipython",
    "version": 3
   },
   "file_extension": ".py",
   "mimetype": "text/x-python",
   "name": "python",
   "nbconvert_exporter": "python",
   "pygments_lexer": "ipython3",
   "version": "3.6.1"
  }
 },
 "nbformat": 4,
 "nbformat_minor": 2
}

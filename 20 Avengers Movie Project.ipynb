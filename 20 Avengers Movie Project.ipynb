{
 "cells": [
  {
   "cell_type": "code",
   "execution_count": null,
   "metadata": {
    "collapsed": true
   },
   "outputs": [],
   "source": [
    "import pandas as pd\n",
    "\n",
    "avengers = pd.read_csv(\"avengers.csv\")\n",
    "avengers.head(5)"
   ]
  },
  {
   "cell_type": "markdown",
   "metadata": {},
   "source": [
    "### Filtering Out Bad Data"
   ]
  },
  {
   "cell_type": "code",
   "execution_count": null,
   "metadata": {
    "collapsed": true
   },
   "outputs": [],
   "source": [
    "import matplotlib.pyplot as plt\n",
    "true_avengers = pd.DataFrame()\n",
    "#⚠️可以注意下这种创建df的方法，也可以直接省略这步\n",
    "avengers['Year'].hist()\n",
    "true_avengers = avengers[avengers[\"Year\"] > 1959]"
   ]
  },
  {
   "cell_type": "markdown",
   "metadata": {},
   "source": [
    "### Consolidating Deaths"
   ]
  },
  {
   "cell_type": "code",
   "execution_count": null,
   "metadata": {
    "collapsed": true
   },
   "outputs": [],
   "source": [
    "#Create a new column, Deaths, that contains the number of times each superhero died.\n",
    "\n",
    "#⚠️想匹配每个deaths，需要用dataframe的apply(),可以自动匹配,注意axis =1\n",
    "#⚠️在匹配dataframe的时候，可以把dataframe想象成只有一行的series,这也是为什么dataframe不太需要iterrow循环row的原因\n",
    "def clean_deaths(row):\n",
    "    num_deaths = 0\n",
    "    columns = ['Death1', 'Death2', 'Death3', 'Death4', 'Death5']\n",
    "    \n",
    "    for c in columns:\n",
    "        death = row[c]\n",
    "        if pd.isnull(death)== True or death == 'NO':\n",
    "            continue\n",
    "        elif death == 'YES':\n",
    "            num_deaths += 1\n",
    "    return num_deaths\n",
    "\n",
    "true_avengers['Deaths'] = true_avengers.apply(clean_deaths, axis=1)"
   ]
  },
  {
   "cell_type": "markdown",
   "metadata": {},
   "source": [
    "### Verifying Years Since Joining"
   ]
  },
  {
   "cell_type": "code",
   "execution_count": null,
   "metadata": {
    "collapsed": true
   },
   "outputs": [],
   "source": [
    "# Calculate the number of rows where Years since joining is accurate.\n",
    "# Because this challenge was created in 2015, use that as the reference year.\n",
    "# We want to know for how many rows Years since joining was correctly calculated as the Year value subtracted from 2015.\n",
    "joined_accuracy_count  = int()\n",
    "correct_joined_years = true_avengers[true_avengers['Years since joining'] == (2015 - true_avengers['Year'])]\n",
    "joined_accuracy_count = len(correct_joined_years)\n",
    "#⚠️for c in dataframe不能单独循环一排一排,而是一列一列，所以用了len\n",
    "#⚠️记住这种len和filter的用法"
   ]
  },
  {
   "cell_type": "code",
   "execution_count": null,
   "metadata": {
    "collapsed": true
   },
   "outputs": [],
   "source": []
  }
 ],
 "metadata": {
  "kernelspec": {
   "display_name": "Python 3",
   "language": "python",
   "name": "python3"
  },
  "language_info": {
   "codemirror_mode": {
    "name": "ipython",
    "version": 3
   },
   "file_extension": ".py",
   "mimetype": "text/x-python",
   "name": "python",
   "nbconvert_exporter": "python",
   "pygments_lexer": "ipython3",
   "version": "3.6.1"
  }
 },
 "nbformat": 4,
 "nbformat_minor": 2
}

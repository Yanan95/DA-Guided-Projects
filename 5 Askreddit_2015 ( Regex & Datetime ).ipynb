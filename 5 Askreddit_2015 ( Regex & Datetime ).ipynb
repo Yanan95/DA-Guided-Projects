{
 "cells": [
  {
   "cell_type": "markdown",
   "metadata": {},
   "source": [
    "# Regular Expressions"
   ]
  },
  {
   "cell_type": "code",
   "execution_count": 1,
   "metadata": {},
   "outputs": [
    {
     "data": {
      "text/plain": [
       "['Title', 'Score', 'Time', 'Gold', 'NumComs']"
      ]
     },
     "execution_count": 1,
     "metadata": {},
     "output_type": "execute_result"
    }
   ],
   "source": [
    "import csv\n",
    "f = open('askreddit_2015.csv','r')\n",
    "file = csv.reader(f)\n",
    "posts_with_header = list(file)\n",
    "posts_header = posts_with_header[0]\n",
    "posts = posts_with_header[1:]\n",
    "posts_header"
   ]
  },
  {
   "cell_type": "markdown",
   "metadata": {},
   "source": [
    "## Counting Simple Matches  're.search(regex, string)'"
   ]
  },
  {
   "cell_type": "code",
   "execution_count": 10,
   "metadata": {},
   "outputs": [
    {
     "data": {
      "text/plain": [
       "76"
      ]
     },
     "execution_count": 10,
     "metadata": {},
     "output_type": "execute_result"
    }
   ],
   "source": [
    "# Count the number of posts in our data set that match the regex \"of Reddit\"\n",
    "import re\n",
    "count = 0\n",
    "for row in posts:\n",
    "    if re.search('of Reddit', row[0]) is not None:\n",
    "        count +=1\n",
    "count\n",
    "# ⚠️ remember the method of re.search(regex, string). \n",
    "# If it is, return a 'match' object, or return 'None'"
   ]
  },
  {
   "cell_type": "markdown",
   "metadata": {},
   "source": [
    "## Using [ ] to Match Multiple Characters "
   ]
  },
  {
   "cell_type": "code",
   "execution_count": 11,
   "metadata": {},
   "outputs": [
    {
     "data": {
      "text/plain": [
       "102"
      ]
     },
     "execution_count": 11,
     "metadata": {},
     "output_type": "execute_result"
    }
   ],
   "source": [
    "# some posts use \"of Reddit\", and others use \"of reddit\"\n",
    "count = 0\n",
    "for row in posts:\n",
    "    if re.search('of [rR]eddit', row[0]) is not None:\n",
    "        count +=1\n",
    "count"
   ]
  },
  {
   "cell_type": "markdown",
   "metadata": {},
   "source": [
    "## Escaping Special Characters"
   ]
  },
  {
   "cell_type": "code",
   "execution_count": 20,
   "metadata": {},
   "outputs": [
    {
     "name": "stdout",
     "output_type": "stream",
     "text": [
      "69\n",
      "77\n",
      "80\n"
     ]
    }
   ],
   "source": [
    "# ⚠️use the backslash (\"\\\") to escape characters in a regex\n",
    "# ⚠️\"^\" to match the beginning of a string\n",
    "# ⚠️\"$\" to match the end of a string\n",
    "# ⚠️\".\" to match any character\n",
    "serious_count = 0\n",
    "for row in posts:\n",
    "    if re.search('\\[Serious\\]',row[0]) is not None:\n",
    "        serious_count +=1\n",
    "\n",
    "# either \"[Serious]\" or \"[serious]\" in the title\n",
    "Sserious_count = 0\n",
    "for row in posts:\n",
    "    if re.search('\\[[Ss]erious\\]',row[0]) is not None:\n",
    "        Sserious_count +=1\n",
    "\n",
    "# how many posts have the serious tag enclosed in either square brackets or parentheses\n",
    "all_count = 0\n",
    "for row in posts:\n",
    "    if re.search('[\\[\\(][Ss]erious[\\]\\)]',row[0]) is not None:\n",
    "        all_count +=1\n",
    "\n",
    "print(serious_count)\n",
    "print(Sserious_count)\n",
    "print(all_count)"
   ]
  },
  {
   "cell_type": "markdown",
   "metadata": {},
   "source": [
    "## Combining Multiple Regular Expressions"
   ]
  },
  {
   "cell_type": "code",
   "execution_count": 23,
   "metadata": {},
   "outputs": [
    {
     "name": "stdout",
     "output_type": "stream",
     "text": [
      "69\n",
      "11\n",
      "80\n"
     ]
    }
   ],
   "source": [
    "# ⚠️\"|\" to combine regular expressions\n",
    "serious_start_count = 0\n",
    "serious_end_count = 0\n",
    "serious_count_final = 0\n",
    "for row in posts:\n",
    "    if re.search(\"^[\\[\\(][Ss]erious[\\]\\)]\", row[0]) is not None:\n",
    "        serious_start_count += 1\n",
    "    if re.search(\"[\\[\\(][Ss]erious[\\]\\)]$\", row[0]) is not None:\n",
    "        serious_end_count += 1\n",
    "    if re.search(\"^[\\[\\(][Ss]erious[\\]\\)]|[\\[\\(][Ss]erious[\\]\\)]$\", row[0]) is not None:\n",
    "        serious_count_final += 1\n",
    "        \n",
    "print(serious_start_count)\n",
    "print(serious_end_count)\n",
    "print(serious_count_final)"
   ]
  },
  {
   "cell_type": "markdown",
   "metadata": {},
   "source": [
    " ## Substitute Strings with re.sub(pattern, repl, str)"
   ]
  },
  {
   "cell_type": "code",
   "execution_count": 24,
   "metadata": {
    "collapsed": true
   },
   "outputs": [],
   "source": [
    "# Replace \"[serious]\", \"(Serious)\", and \"(serious)\" with \"[Serious]\"\n",
    "posts_new = []\n",
    "for row in posts:\n",
    "    row[0] = re.sub('[\\[\\(][Ss]erious[\\]\\)]', '[Serious]', row[0])\n",
    "    posts_new.append(row)\n",
    "# ⚠️repl argument is an ordinary string not a regex, don't need to escape characters like \"[\"."
   ]
  },
  {
   "cell_type": "markdown",
   "metadata": {},
   "source": [
    "## Matching Years with Regular Expressions"
   ]
  },
  {
   "cell_type": "code",
   "execution_count": 27,
   "metadata": {},
   "outputs": [
    {
     "ename": "NameError",
     "evalue": "name 'strings' is not defined",
     "output_type": "error",
     "traceback": [
      "\u001b[0;31m---------------------------------------------------------------------------\u001b[0m",
      "\u001b[0;31mNameError\u001b[0m                                 Traceback (most recent call last)",
      "\u001b[0;32m<ipython-input-27-9ba92ec4ad18>\u001b[0m in \u001b[0;36m<module>\u001b[0;34m()\u001b[0m\n\u001b[1;32m      4\u001b[0m \u001b[0;34m\u001b[0m\u001b[0m\n\u001b[1;32m      5\u001b[0m \u001b[0myear_strings\u001b[0m \u001b[0;34m=\u001b[0m \u001b[0;34m[\u001b[0m\u001b[0;34m]\u001b[0m\u001b[0;34m\u001b[0m\u001b[0m\n\u001b[0;32m----> 6\u001b[0;31m \u001b[0;32mfor\u001b[0m \u001b[0meach\u001b[0m \u001b[0;32min\u001b[0m \u001b[0mstrings\u001b[0m\u001b[0;34m:\u001b[0m\u001b[0;34m\u001b[0m\u001b[0m\n\u001b[0m\u001b[1;32m      7\u001b[0m     \u001b[0;32mif\u001b[0m \u001b[0mre\u001b[0m\u001b[0;34m.\u001b[0m\u001b[0msearch\u001b[0m\u001b[0;34m(\u001b[0m\u001b[0;34m'[12][0-9][0-9][0-9]'\u001b[0m\u001b[0;34m,\u001b[0m \u001b[0mrow\u001b[0m\u001b[0;34m)\u001b[0m \u001b[0;32mis\u001b[0m \u001b[0;32mnot\u001b[0m \u001b[0;32mNone\u001b[0m\u001b[0;34m:\u001b[0m\u001b[0;34m\u001b[0m\u001b[0m\n\u001b[1;32m      8\u001b[0m         \u001b[0myear_strings\u001b[0m\u001b[0;34m.\u001b[0m\u001b[0mappend\u001b[0m\u001b[0;34m(\u001b[0m\u001b[0mrow\u001b[0m\u001b[0;34m)\u001b[0m\u001b[0;34m\u001b[0m\u001b[0m\n",
      "\u001b[0;31mNameError\u001b[0m: name 'strings' is not defined"
     ]
    }
   ],
   "source": [
    "# ⚠️‘-’ to match any character that falls between\n",
    "# whether each string contains a year between 1000 and 2999\n",
    "# imagine that we have loaded a number of strings into the 'string' variable\n",
    "\n",
    "year_strings = []\n",
    "for each in strings:\n",
    "    if re.search('[12][0-9][0-9][0-9]', row) is not None:\n",
    "        year_strings.append(row)\n",
    "        \n",
    "# ⚠️ \"{\" and \"}\" to indicate that a pattern should repeat\n",
    "year_strings = []\n",
    "for row in strings:\n",
    "    if re.search('[12][0-9]{3}', row) is not None:\n",
    "        year_strings.append(row)\n",
    "        \n",
    "# ⚠️  re.findall() returns a list of substrings matching the regex\n",
    "years = re.findall('[1-2][0-9]{3}',years_string)\n",
    "\n",
    "# ⚠️ re.search() returns a matching 'object', re.findall returns a list of substrings"
   ]
  },
  {
   "cell_type": "markdown",
   "metadata": {},
   "source": [
    "# Datetime "
   ]
  },
  {
   "cell_type": "code",
   "execution_count": 35,
   "metadata": {},
   "outputs": [
    {
     "name": "stdout",
     "output_type": "stream",
     "text": [
      "1502682721.977487\n",
      "time.struct_time(tm_year=2017, tm_mon=8, tm_mday=14, tm_hour=3, tm_min=52, tm_sec=1, tm_wday=0, tm_yday=226, tm_isdst=0)\n",
      "3\n",
      "2017-08-14 11:52:01.978291\n"
     ]
    }
   ],
   "source": [
    "import time \n",
    "current_time = time.time()\n",
    "current_struc_time = time.gmtime(current_time)\n",
    "current_struc_hour = current_struc_time.tm_hour\n",
    "print(current_time)\n",
    "print(current_struc_time)\n",
    "print(current_struc_hour)\n",
    "\n",
    "import datetime\n",
    "current_datetime = datetime.datetime.now()\n",
    "current_year = current_datetime.year\n",
    "current_month = current_datetime.month\n",
    "print(current_datetime)"
   ]
  },
  {
   "cell_type": "code",
   "execution_count": 34,
   "metadata": {
    "scrolled": true
   },
   "outputs": [
    {
     "data": {
      "text/plain": [
       "datetime.datetime(2232, 12, 7, 0, 0)"
      ]
     },
     "execution_count": 34,
     "metadata": {},
     "output_type": "execute_result"
    }
   ],
   "source": [
    "kirks_birthday = datetime.datetime(2233,3,22)\n",
    "diff = datetime.timedelta(weeks=15)\n",
    "before_kirk = kirks_birthday - diff\n",
    "before_kirk"
   ]
  },
  {
   "cell_type": "markdown",
   "metadata": {},
   "source": [
    "## Convert the 'Time' column to datetime"
   ]
  },
  {
   "cell_type": "code",
   "execution_count": 36,
   "metadata": {
    "collapsed": true
   },
   "outputs": [],
   "source": [
    "for row in posts:\n",
    "    row[2] = float(row[2])\n",
    "# Now, the 'Time' column is Unix type, converting it to datetime type\n",
    "    row[2] = datetime.datetime.fromtimestamp(row[2])"
   ]
  },
  {
   "cell_type": "markdown",
   "metadata": {},
   "source": [
    "## check the datetime instance"
   ]
  },
  {
   "cell_type": "code",
   "execution_count": 38,
   "metadata": {},
   "outputs": [
    {
     "data": {
      "text/plain": [
       "58"
      ]
     },
     "execution_count": 38,
     "metadata": {},
     "output_type": "execute_result"
    }
   ],
   "source": [
    "march_count = 0\n",
    "for row in posts:\n",
    "    if row[2].month == 3:\n",
    "        march_count +=1\n",
    "march_count"
   ]
  },
  {
   "cell_type": "markdown",
   "metadata": {},
   "source": [
    "## write a function"
   ]
  },
  {
   "cell_type": "code",
   "execution_count": 41,
   "metadata": {},
   "outputs": [
    {
     "data": {
      "text/plain": [
       "58"
      ]
     },
     "execution_count": 41,
     "metadata": {},
     "output_type": "execute_result"
    }
   ],
   "source": [
    "def month_count(month):\n",
    "    count = 0\n",
    "    for row in posts:\n",
    "        if row[2].month == month:\n",
    "            count +=1\n",
    "    return count\n",
    "\n",
    "month_count(3)"
   ]
  },
  {
   "cell_type": "code",
   "execution_count": null,
   "metadata": {
    "collapsed": true
   },
   "outputs": [],
   "source": []
  }
 ],
 "metadata": {
  "kernelspec": {
   "display_name": "Python 3",
   "language": "python",
   "name": "python3"
  },
  "language_info": {
   "codemirror_mode": {
    "name": "ipython",
    "version": 3
   },
   "file_extension": ".py",
   "mimetype": "text/x-python",
   "name": "python",
   "nbconvert_exporter": "python",
   "pygments_lexer": "ipython3",
   "version": "3.6.1"
  }
 },
 "nbformat": 4,
 "nbformat_minor": 2
}

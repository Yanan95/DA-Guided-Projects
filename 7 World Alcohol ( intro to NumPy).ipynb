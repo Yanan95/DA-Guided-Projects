{
 "cells": [
  {
   "cell_type": "markdown",
   "metadata": {},
   "source": [
    "## Introduction to Dataset"
   ]
  },
  {
   "cell_type": "code",
   "execution_count": 5,
   "metadata": {},
   "outputs": [
    {
     "name": "stdout",
     "output_type": "stream",
     "text": [
      "[[   nan    nan    nan    nan    nan]\n",
      " [ 1986.    nan    nan    nan     0.]]\n",
      "<class 'numpy.ndarray'>\n"
     ]
    }
   ],
   "source": [
    "import numpy as np\n",
    "world_alcohol = np.genfromtxt('world_alcohol.csv', delimiter = ',')\n",
    "world_alcohol_type = type(world_alcohol)\n",
    "print(world_alcohol[0:2])\n",
    "print (world_alcohol_type)\n",
    "# ⚠️ 'nan' is 'not a number'\n",
    "# ⚠️ ‘na' is 'not available'\n",
    "# ⚠️ numpy array has to contain the same type\n",
    "# ⚠️ remember the method of NumPy opening file 'genfromtxt' & 'delimiter'"
   ]
  },
  {
   "cell_type": "code",
   "execution_count": 8,
   "metadata": {},
   "outputs": [
    {
     "name": "stdout",
     "output_type": "stream",
     "text": [
      "[['Year' 'WHO region' 'Country' 'Beverage Types' 'Display Value']\n",
      " ['1986' 'Western Pacific' 'Viet Nam' 'Wine' '0']]\n"
     ]
    }
   ],
   "source": [
    "world_alcohol = np.genfromtxt('world_alcohol.csv',delimiter = ',', dtype = 'U75', skip_header = 0)\n",
    "print(world_alcohol[0:2])\n",
    "# ⚠️ numpy array tries to recognize the data type on its own, however, we could specify the data typ\n",
    "# ⚠️ with 'dtype' parameter, we could customize the data type\n",
    "# ⚠️ skip_header: The number of lines to skip at the beginning of the file."
   ]
  },
  {
   "cell_type": "markdown",
   "metadata": {},
   "source": [
    "## Indexing Arrays"
   ]
  },
  {
   "cell_type": "code",
   "execution_count": 12,
   "metadata": {},
   "outputs": [
    {
     "data": {
      "text/plain": [
       "30"
      ]
     },
     "execution_count": 12,
     "metadata": {},
     "output_type": "execute_result"
    }
   ],
   "source": [
    "# Python Lists Indexing Seperately\n",
    "list_of_lists = [\n",
    "        [5, 10, 15], \n",
    "        [20, 25, 30]\n",
    "       ]\n",
    "first_item = list_of_lists[0]\n",
    "first_item[2]\n",
    "\n",
    "# which equals to \n",
    "list_of_lists[0][2]\n",
    "\n",
    "# Numpy Array Indexing (both indices inside square brackets)\n",
    "matrix = np.array([\n",
    "                        [5, 10, 15], \n",
    "                        [20, 25, 30]\n",
    "                     ])\n",
    "matrix[1,2]"
   ]
  },
  {
   "cell_type": "markdown",
   "metadata": {},
   "source": [
    "## Slicing Arrays"
   ]
  },
  {
   "cell_type": "code",
   "execution_count": 16,
   "metadata": {},
   "outputs": [
    {
     "data": {
      "text/plain": [
       "array([['Year', 'WHO region', 'Country', 'Beverage Types', 'Display Value'],\n",
       "       ['1986', 'Western Pacific', 'Viet Nam', 'Wine', '0'],\n",
       "       ['1986', 'Americas', 'Uruguay', 'Other', '0.5'],\n",
       "       ['1985', 'Africa', \"Cte d'Ivoire\", 'Wine', '1.62'],\n",
       "       ['1986', 'Americas', 'Colombia', 'Beer', '4.27'],\n",
       "       ['1987', 'Americas', 'Saint Kitts and Nevis', 'Beer', '1.98'],\n",
       "       ['1987', 'Americas', 'Guatemala', 'Other', '0'],\n",
       "       ['1987', 'Africa', 'Mauritius', 'Wine', '0.13'],\n",
       "       ['1985', 'Africa', 'Angola', 'Spirits', '0.39'],\n",
       "       ['1986', 'Americas', 'Antigua and Barbuda', 'Spirits', '1.55']], \n",
       "      dtype='<U75')"
      ]
     },
     "execution_count": 16,
     "metadata": {},
     "output_type": "execute_result"
    }
   ],
   "source": [
    "# ⚠️slice both dimensions\n",
    "# the whole fifth column from world_alcohol\n",
    "world_alcohol [:,4]\n",
    "# all the rows and the first 2 columns of world_alcohol\n",
    "world_alcohol[:,0:2]\n",
    "# the first 10 rows and the first column\n",
    "world_alcohol[0:10, 0]\n",
    "#  the first 10 rows and all of the columns of world_alcohol\n",
    "world_alcohol[0:10, :]"
   ]
  },
  {
   "cell_type": "markdown",
   "metadata": {},
   "source": [
    "## Array Comparisons Selecting Certain Elements"
   ]
  },
  {
   "cell_type": "code",
   "execution_count": 18,
   "metadata": {},
   "outputs": [
    {
     "data": {
      "text/plain": [
       "array([['1984', 'Africa', 'Algeria', 'Spirits', '0.01'],\n",
       "       ['1987', 'Africa', 'Algeria', 'Beer', '0.17'],\n",
       "       ['1987', 'Africa', 'Algeria', 'Spirits', '0.01'],\n",
       "       ['1986', 'Africa', 'Algeria', 'Wine', '0.1'],\n",
       "       ['1984', 'Africa', 'Algeria', 'Other', '0'],\n",
       "       ['1989', 'Africa', 'Algeria', 'Beer', '0.16'],\n",
       "       ['1989', 'Africa', 'Algeria', 'Spirits', '0.01'],\n",
       "       ['1989', 'Africa', 'Algeria', 'Wine', '0.23'],\n",
       "       ['1986', 'Africa', 'Algeria', 'Spirits', '0.01'],\n",
       "       ['1984', 'Africa', 'Algeria', 'Wine', '0.12'],\n",
       "       ['1985', 'Africa', 'Algeria', 'Beer', '0.19'],\n",
       "       ['1985', 'Africa', 'Algeria', 'Other', '0'],\n",
       "       ['1986', 'Africa', 'Algeria', 'Beer', '0.18'],\n",
       "       ['1985', 'Africa', 'Algeria', 'Wine', '0.11'],\n",
       "       ['1986', 'Africa', 'Algeria', 'Other', '0'],\n",
       "       ['1989', 'Africa', 'Algeria', 'Other', '0'],\n",
       "       ['1987', 'Africa', 'Algeria', 'Other', '0'],\n",
       "       ['1984', 'Africa', 'Algeria', 'Beer', '0.2'],\n",
       "       ['1985', 'Africa', 'Algeria', 'Spirits', '0.01'],\n",
       "       ['1987', 'Africa', 'Algeria', 'Wine', '0.1']], \n",
       "      dtype='<U75')"
      ]
     },
     "execution_count": 18,
     "metadata": {},
     "output_type": "execute_result"
    }
   ],
   "source": [
    "# ⚠️NumPy compare the second value to each element and returns 'True' or 'False'\n",
    "# ⚠️The comparisons helps select elements in arrays using Boolean vectors\n",
    "\n",
    "# select only the rows in world_alcohol where the country is algeria\n",
    "country_algeria = world_alcohol[world_alcohol[:,2] =='Algeria', :]\n",
    "country_algeria\n",
    "# ⚠️ here we want only the rows, so the last sign is ':', which's a little bit different from DataFrame in Pandas"
   ]
  },
  {
   "cell_type": "markdown",
   "metadata": {},
   "source": [
    "##  Array Comparisons with Multiple Conditions"
   ]
  },
  {
   "cell_type": "code",
   "execution_count": 29,
   "metadata": {},
   "outputs": [],
   "source": [
    "# select rows where the condition is 'is_algeria_and_1986'\n",
    "# conditions \n",
    "is_algeria_and_1986 = (world_alcohol[:,0]=='1986') & (world_alcohol[:,2]=='Algeria')\n",
    "rows_with_algeria_and_1986 = world_alcohol[is_algeria_and_1986,:]\n",
    "# ⚠️remember each condition should include brackets "
   ]
  },
  {
   "cell_type": "markdown",
   "metadata": {},
   "source": [
    "## Array Comparisons Replacing Values"
   ]
  },
  {
   "cell_type": "code",
   "execution_count": 36,
   "metadata": {},
   "outputs": [],
   "source": [
    "# Replace  1986 in the first column with the string 2014\n",
    "rows = (world_alcohol[:,0] == '1986')\n",
    "world_alcohol[rows,0] ='2014'\n",
    "# Replace Wine in the fourth column with the string Grog\n",
    "rows = (world_alcohol[:,3] =='Wine')\n",
    "world_alcohol[rows,3] ='Grog'\n",
    "\n",
    "# ⚠️ Firstly find the places, then replace\n",
    "\n",
    "# Replacing Empty Strings\n",
    "rows = (world_alcohol[:,4]=='')\n",
    "world_alcohol[rows,4] = 0\n",
    "# ⚠️ which equals to (前面是筛选框架，后面是条件)\n",
    "world_alcohol[:,4][rows] =0"
   ]
  },
  {
   "cell_type": "markdown",
   "metadata": {},
   "source": [
    "##  Converting Data Types with astype( )"
   ]
  },
  {
   "cell_type": "code",
   "execution_count": 44,
   "metadata": {},
   "outputs": [],
   "source": [
    "# convert the fifth column to float data type\n",
    "# remember remove the header\n",
    "world_alcohol = world_alcohol[1:, :]\n",
    "alcohol_consumption = world_alcohol[:,4].astype(float)\n",
    "total_alcohol = sum(alcohol_consumption)\n",
    "# which equals to \n",
    "total_alcohol = alcohol_consumption.sum()\n",
    "average_alcohol = total_alcohol/len(alcohol_consumption)\n",
    "# which equals to \n",
    "average_alcohol = alcohol_consumption.mean()"
   ]
  },
  {
   "cell_type": "markdown",
   "metadata": {},
   "source": [
    "## Total Canada_1986 Alcohol Consumption"
   ]
  },
  {
   "cell_type": "code",
   "execution_count": 48,
   "metadata": {},
   "outputs": [],
   "source": [
    "conditions = (world_alcohol[:,0]=='1986') & (world_alcohol[:,2]=='Canada')\n",
    "canada_1986 = world_alcohol[conditions,:]\n",
    "is_empty = (canada_1986[:,4] =='')\n",
    "canada_1986[is_empty,4] = 0\n",
    "# which equals to \n",
    "canada_1986[:,4][canada_1986[:,4]==''] =0\n",
    "# converting to float type before sum up\n",
    "total_canada_drinking = canada_1986[:,4].astype(float).sum()"
   ]
  },
  {
   "cell_type": "code",
   "execution_count": null,
   "metadata": {
    "collapsed": true
   },
   "outputs": [],
   "source": []
  }
 ],
 "metadata": {
  "kernelspec": {
   "display_name": "Python 3",
   "language": "python",
   "name": "python3"
  },
  "language_info": {
   "codemirror_mode": {
    "name": "ipython",
    "version": 3
   },
   "file_extension": ".py",
   "mimetype": "text/x-python",
   "name": "python",
   "nbconvert_exporter": "python",
   "pygments_lexer": "ipython3",
   "version": "3.6.1"
  }
 },
 "nbformat": 4,
 "nbformat_minor": 2
}
